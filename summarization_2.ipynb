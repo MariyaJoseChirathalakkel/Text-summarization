{
 "cells": [
  {
   "cell_type": "markdown",
   "metadata": {},
   "source": [
    "## Text Summarization Using Langchain "
   ]
  },
  {
   "cell_type": "code",
   "execution_count": 1,
   "metadata": {},
   "outputs": [],
   "source": [
    "import os \n",
    "open_api_key=\"sk-prNQ08\"\n",
    "os.environ[\"OPENAI_API_KEY\"]=open_api_key"
   ]
  },
  {
   "cell_type": "markdown",
   "metadata": {},
   "source": [
    "## StuffDocumentChain Text Summarization"
   ]
  },
  {
   "cell_type": "code",
   "execution_count": 2,
   "metadata": {},
   "outputs": [],
   "source": [
    "from PyPDF2 import PdfReader"
   ]
  },
  {
   "cell_type": "code",
   "execution_count": 3,
   "metadata": {},
   "outputs": [],
   "source": [
    "# provide the path of  pdf file/files.\n",
    "pdfreader = PdfReader('/Users/mariyajose/Documents/Github_projects/text_summarisation/The Weight of Days.pdf')"
   ]
  },
  {
   "cell_type": "code",
   "execution_count": 4,
   "metadata": {},
   "outputs": [],
   "source": [
    "from typing_extensions import Concatenate\n",
    "# read text from pdf\n",
    "text = ''\n",
    "for i, page in enumerate(pdfreader.pages):\n",
    "    content = page.extract_text()\n",
    "    if content:\n",
    "        text += content"
   ]
  },
  {
   "cell_type": "code",
   "execution_count": 5,
   "metadata": {},
   "outputs": [
    {
     "data": {
      "text/plain": [
       "'The Weight of DaysJohn sat by the window, watching the world pass him by. His apartment, small and sparsely furnished, had become a place of isolation, a cocoon that sheltered him from the judgmental eyes of the outside world. The ticking of the clock on the wall echoed through the silence, a relentless reminder of time slipping away, of days blending into weeks, and weeks into months. Unemployment had a way of stretching time, making it feel both fleeting and interminable.It wasn’t always like this. There was a time when John woke up with purpose, when his alarm clock was the harbinger of a new day filled with responsibilities, challenges, and small victories. He worked as a graphic designer at a mid-sized advertising agency, where his creativity was both appreciated and monetized. He enjoyed the rhythm of his work, the deadlines that pushed him to be his best, and the camaraderie of his colleagues. They were like a second family, sharing not just work but also jokes, frustrations, and occasional drinks after hours.But then, the layoffs came. The company was restructuring, they said. Nothing personal, just business. John was one of the casualties of this corporate culling, his position deemed redundant. He remembered the day he was called into the office, the way his boss avoided eye contact, the sterile language of the termination letter. “We regret to inform you…” Those words felt like a death sentence.The first few weeks of unemployment were a blur. John kept himself busy, updating his resume, applying to every job that seemed remotely relevant, and attending networking events with the kind of enthusiasm that bordered on desperation. He told himself that this was just a temporary setback, that he would land on his feet soon enough.But as the weeks turned into months, hope began to erode. The rejection emails—those that bothered to respond—became a daily routine. Each one felt like a blow to his self-worth, a confirmation that he was no longer needed, no longer relevant. The days grew long and monotonous. Without a job to anchor him, John’s life lost its structure. He began to sleep in later and later, staying up into the early hours of the morning watching mindless television or scrolling through social media, where everyone seemed to be thriving except him.His savings dwindled, and with them, his sense of security. The bills kept coming, relentless and unforgiving. Rent, utilities, student loans—each one a reminder of the life he had built, a life that now felt like it was slipping through his fingers. John started skipping meals to stretch his budget, rationing food in a way that felt both humiliating and necessary. The fridge became a symbol of his decline, its emptiness mirroring the void that had taken root inside him.Isolation was the hardest part. Without the daily interactions of work, John found himself retreating into his own mind, where the whispers of self-doubt grew louder with each passing day. Friends who used to check in gradually fell away, their texts unanswered, their calls going to voicemail. It wasn’t that they didn’t care, John told himself; it was that he had nothing to say. What could he offer in conversation? More tales of rejection, more stories of days spent in pajamas, more silence?One evening, as the sun dipped below the horizon, casting long shadows across the room, John found himself staring at the photograph on the wall. It was from a few years ago, taken during a vacation with friends. They were all smiling, carefree, the future bright and full of promise. John barely recognized himself in that image. He was thinner now, the lines of worry etched into his face, his eyes dull from lack of sleep and too much worry.He reached out and took the photo off the wall, tracing the faces with his finger. A tear slipped down his cheek, unbidden and unexpected. It was the first time he had cried since losing his job. The tears came slowly at first, then in a flood, as if all the pain and frustration he had been holding back finally broke free.When the tears subsided, John felt a strange sense of calm. He knew he couldn’t go on like this, trapped in a cycle of despair and self-pity. He had to do something, anything, to break the pattern. He wasn’t sure where to start, but he knew that sitting in his apartment waiting for the world to change wasn’t the answer.The next morning, John woke up early, earlier than he had in months. He made himself a cup of coffee and sat down at his computer. He opened a blank document and stared at the cursor blinking back at him. He had always loved writing, though he had never pursued it seriously. Perhaps now was the time.He began to type, slowly at first, then faster as the words started to flow. It wasn’t much, just a few paragraphs, but it felt like a beginning. For the first time in a long time, John felt a spark of something inside him—hope, determination, maybe even joy. It was faint, like the first light of dawn after a long, dark night, but it was there.John knew he had a long road ahead of him, that things wouldn’t change overnight. But as he sat there, typing away, he felt a sense of purpose returning. He didn’t know where this new path would lead, but for the first time in a long time, he was ready to find out.'"
      ]
     },
     "execution_count": 5,
     "metadata": {},
     "output_type": "execute_result"
    }
   ],
   "source": [
    "text"
   ]
  },
  {
   "cell_type": "code",
   "execution_count": 6,
   "metadata": {},
   "outputs": [],
   "source": [
    "from langchain.docstore.document import Document"
   ]
  },
  {
   "cell_type": "code",
   "execution_count": 7,
   "metadata": {},
   "outputs": [
    {
     "data": {
      "text/plain": [
       "[Document(page_content='The Weight of DaysJohn sat by the window, watching the world pass him by. His apartment, small and sparsely furnished, had become a place of isolation, a cocoon that sheltered him from the judgmental eyes of the outside world. The ticking of the clock on the wall echoed through the silence, a relentless reminder of time slipping away, of days blending into weeks, and weeks into months. Unemployment had a way of stretching time, making it feel both fleeting and interminable.It wasn’t always like this. There was a time when John woke up with purpose, when his alarm clock was the harbinger of a new day filled with responsibilities, challenges, and small victories. He worked as a graphic designer at a mid-sized advertising agency, where his creativity was both appreciated and monetized. He enjoyed the rhythm of his work, the deadlines that pushed him to be his best, and the camaraderie of his colleagues. They were like a second family, sharing not just work but also jokes, frustrations, and occasional drinks after hours.But then, the layoffs came. The company was restructuring, they said. Nothing personal, just business. John was one of the casualties of this corporate culling, his position deemed redundant. He remembered the day he was called into the office, the way his boss avoided eye contact, the sterile language of the termination letter. “We regret to inform you…” Those words felt like a death sentence.The first few weeks of unemployment were a blur. John kept himself busy, updating his resume, applying to every job that seemed remotely relevant, and attending networking events with the kind of enthusiasm that bordered on desperation. He told himself that this was just a temporary setback, that he would land on his feet soon enough.But as the weeks turned into months, hope began to erode. The rejection emails—those that bothered to respond—became a daily routine. Each one felt like a blow to his self-worth, a confirmation that he was no longer needed, no longer relevant. The days grew long and monotonous. Without a job to anchor him, John’s life lost its structure. He began to sleep in later and later, staying up into the early hours of the morning watching mindless television or scrolling through social media, where everyone seemed to be thriving except him.His savings dwindled, and with them, his sense of security. The bills kept coming, relentless and unforgiving. Rent, utilities, student loans—each one a reminder of the life he had built, a life that now felt like it was slipping through his fingers. John started skipping meals to stretch his budget, rationing food in a way that felt both humiliating and necessary. The fridge became a symbol of his decline, its emptiness mirroring the void that had taken root inside him.Isolation was the hardest part. Without the daily interactions of work, John found himself retreating into his own mind, where the whispers of self-doubt grew louder with each passing day. Friends who used to check in gradually fell away, their texts unanswered, their calls going to voicemail. It wasn’t that they didn’t care, John told himself; it was that he had nothing to say. What could he offer in conversation? More tales of rejection, more stories of days spent in pajamas, more silence?One evening, as the sun dipped below the horizon, casting long shadows across the room, John found himself staring at the photograph on the wall. It was from a few years ago, taken during a vacation with friends. They were all smiling, carefree, the future bright and full of promise. John barely recognized himself in that image. He was thinner now, the lines of worry etched into his face, his eyes dull from lack of sleep and too much worry.He reached out and took the photo off the wall, tracing the faces with his finger. A tear slipped down his cheek, unbidden and unexpected. It was the first time he had cried since losing his job. The tears came slowly at first, then in a flood, as if all the pain and frustration he had been holding back finally broke free.When the tears subsided, John felt a strange sense of calm. He knew he couldn’t go on like this, trapped in a cycle of despair and self-pity. He had to do something, anything, to break the pattern. He wasn’t sure where to start, but he knew that sitting in his apartment waiting for the world to change wasn’t the answer.The next morning, John woke up early, earlier than he had in months. He made himself a cup of coffee and sat down at his computer. He opened a blank document and stared at the cursor blinking back at him. He had always loved writing, though he had never pursued it seriously. Perhaps now was the time.He began to type, slowly at first, then faster as the words started to flow. It wasn’t much, just a few paragraphs, but it felt like a beginning. For the first time in a long time, John felt a spark of something inside him—hope, determination, maybe even joy. It was faint, like the first light of dawn after a long, dark night, but it was there.John knew he had a long road ahead of him, that things wouldn’t change overnight. But as he sat there, typing away, he felt a sense of purpose returning. He didn’t know where this new path would lead, but for the first time in a long time, he was ready to find out.')]"
      ]
     },
     "execution_count": 7,
     "metadata": {},
     "output_type": "execute_result"
    }
   ],
   "source": [
    "docs = [Document(page_content=text)]\n",
    "docs"
   ]
  },
  {
   "cell_type": "code",
   "execution_count": 8,
   "metadata": {},
   "outputs": [
    {
     "name": "stderr",
     "output_type": "stream",
     "text": [
      "/var/folders/50/37d92zzj16z4b8zf67ydlch40000gn/T/ipykernel_31033/1958061401.py:2: LangChainDeprecationWarning: The class `ChatOpenAI` was deprecated in LangChain 0.0.10 and will be removed in 1.0. An updated version of the class exists in the langchain-openai package and should be used instead. To use it run `pip install -U langchain-openai` and import as `from langchain_openai import ChatOpenAI`.\n",
      "  llm = ChatOpenAI(temperature=0, model_name='gpt-4')\n"
     ]
    }
   ],
   "source": [
    "from langchain.chat_models import ChatOpenAI\n",
    "llm = ChatOpenAI(temperature=0, model_name='gpt-4')"
   ]
  },
  {
   "cell_type": "code",
   "execution_count": 9,
   "metadata": {},
   "outputs": [],
   "source": [
    "from langchain import PromptTemplate\n",
    "from langchain.chat_models import ChatOpenAI\n",
    "from langchain.chains.summarize import load_summarize_chain\n",
    "from langchain.docstore.document import Document"
   ]
  },
  {
   "cell_type": "code",
   "execution_count": null,
   "metadata": {},
   "outputs": [],
   "source": []
  },
  {
   "cell_type": "code",
   "execution_count": 10,
   "metadata": {},
   "outputs": [],
   "source": [
    "template = '''Write a concise and short summary of the following story.\n",
    "story: `{text}`\n",
    "'''\n",
    "prompt = PromptTemplate(\n",
    "    input_variables=['text'],\n",
    "    template=template\n",
    ")"
   ]
  },
  {
   "cell_type": "code",
   "execution_count": 11,
   "metadata": {},
   "outputs": [
    {
     "name": "stderr",
     "output_type": "stream",
     "text": [
      "/var/folders/50/37d92zzj16z4b8zf67ydlch40000gn/T/ipykernel_31033/3536800266.py:7: LangChainDeprecationWarning: The method `Chain.run` was deprecated in langchain 0.1.0 and will be removed in 1.0. Use invoke instead.\n",
      "  output_summary = chain.run(docs)\n"
     ]
    }
   ],
   "source": [
    "chain = load_summarize_chain(\n",
    "    llm,\n",
    "    chain_type='stuff',\n",
    "    prompt=prompt,\n",
    "    verbose=False\n",
    ")\n",
    "output_summary = chain.run(docs)"
   ]
  },
  {
   "cell_type": "code",
   "execution_count": 12,
   "metadata": {},
   "outputs": [
    {
     "data": {
      "text/plain": [
       "'John, a former graphic designer, struggles with unemployment, isolation, and a loss of self-worth after being laid off from his job at an advertising agency. As weeks turn into months, he becomes increasingly despondent, his savings dwindle, and he begins to retreat from his friends. One evening, after breaking down in tears, John decides he needs to make a change. The next morning, he wakes up early and starts writing, something he had always loved but never pursued. Although he knows his journey will be long, he feels a renewed sense of purpose and hope for the first time in a long time.'"
      ]
     },
     "execution_count": 12,
     "metadata": {},
     "output_type": "execute_result"
    }
   ],
   "source": [
    "output_summary"
   ]
  },
  {
   "cell_type": "markdown",
   "metadata": {},
   "source": [
    "## Summarizing Large Documents Using Map Reduce"
   ]
  },
  {
   "cell_type": "code",
   "execution_count": 13,
   "metadata": {},
   "outputs": [],
   "source": [
    "from langchain import PromptTemplate\n",
    "from langchain.chat_models import ChatOpenAI\n",
    "from langchain.chains.summarize import load_summarize_chain\n",
    "from langchain.text_splitter import RecursiveCharacterTextSplitter"
   ]
  },
  {
   "cell_type": "code",
   "execution_count": 14,
   "metadata": {},
   "outputs": [],
   "source": [
    "# provide the path of  pdf file/files.\n",
    "pdfreader = PdfReader('/Users/mariyajose/Documents/Github_projects/text_summarisation/Code of Life.pdf')\n",
    "from typing_extensions import Concatenate\n",
    "# read text from pdf\n",
    "text = ''\n",
    "for i, page in enumerate(pdfreader.pages):\n",
    "    content = page.extract_text()\n",
    "    if content:\n",
    "        text += content"
   ]
  },
  {
   "cell_type": "code",
   "execution_count": 15,
   "metadata": {},
   "outputs": [],
   "source": [
    "llm = ChatOpenAI(temperature=0, model_name='gpt-4')"
   ]
  },
  {
   "cell_type": "code",
   "execution_count": 16,
   "metadata": {},
   "outputs": [
    {
     "data": {
      "text/plain": [
       "1400"
      ]
     },
     "execution_count": 16,
     "metadata": {},
     "output_type": "execute_result"
    }
   ],
   "source": [
    "llm.get_num_tokens(text)"
   ]
  },
  {
   "cell_type": "code",
   "execution_count": 17,
   "metadata": {},
   "outputs": [],
   "source": [
    "## Splittting the text\n",
    "text_splitter = RecursiveCharacterTextSplitter(chunk_size=10000, chunk_overlap=20)\n",
    "chunks = text_splitter.create_documents([text])"
   ]
  },
  {
   "cell_type": "code",
   "execution_count": 18,
   "metadata": {},
   "outputs": [
    {
     "data": {
      "text/plain": [
       "1"
      ]
     },
     "execution_count": 18,
     "metadata": {},
     "output_type": "execute_result"
    }
   ],
   "source": [
    "len(chunks)"
   ]
  },
  {
   "cell_type": "code",
   "execution_count": 19,
   "metadata": {},
   "outputs": [],
   "source": [
    "chain = load_summarize_chain(\n",
    "    llm,\n",
    "    chain_type='map_reduce',\n",
    "    verbose=False\n",
    ")\n",
    "summary = chain.run(chunks)"
   ]
  },
  {
   "cell_type": "code",
   "execution_count": 20,
   "metadata": {},
   "outputs": [
    {
     "data": {
      "text/plain": [
       "'Indian self-taught programmer, Samir Patel, studied at MIT and worked on AI projects in Silicon Valley. Due to ethical concerns and high pressure, he resigned and returned to India. There, he created a machine learning model to help diagnose rare diseases in underfunded rural areas, earning international recognition and funding from global health organizations. His story emphasizes the need for ethical considerations in technology and its potential for significant global impact.'"
      ]
     },
     "execution_count": 20,
     "metadata": {},
     "output_type": "execute_result"
    }
   ],
   "source": [
    "summary"
   ]
  },
  {
   "cell_type": "markdown",
   "metadata": {},
   "source": [
    "## Map Reduce With Custom Prompts"
   ]
  },
  {
   "cell_type": "code",
   "execution_count": 21,
   "metadata": {},
   "outputs": [],
   "source": [
    "chunks_prompt=\"\"\"\n",
    "Please summarize the below story:\n",
    "story:`{text}'\n",
    "Summary:\n",
    "\"\"\"\n",
    "map_prompt_template=PromptTemplate(input_variables=['text'],\n",
    "                                    template=chunks_prompt)"
   ]
  },
  {
   "cell_type": "code",
   "execution_count": 22,
   "metadata": {},
   "outputs": [],
   "source": [
    "final_combine_prompt='''\n",
    "Provide a final summary of the entire story with these important points.\n",
    "Add a Generic Motivational Title,\n",
    "Start the precise summary with an introduction and provide the\n",
    "summary in number points for the story.\n",
    "story: `{text}`\n",
    "'''\n",
    "final_combine_prompt_template=PromptTemplate(input_variables=['text'],\n",
    "                                             template=final_combine_prompt)"
   ]
  },
  {
   "cell_type": "code",
   "execution_count": 23,
   "metadata": {},
   "outputs": [],
   "source": [
    "summary_chain = load_summarize_chain(\n",
    "    llm=llm,\n",
    "    chain_type='map_reduce',\n",
    "    map_prompt=map_prompt_template,\n",
    "    combine_prompt=final_combine_prompt_template,\n",
    "    verbose=False\n",
    ")\n",
    "output = summary_chain.run(chunks)"
   ]
  },
  {
   "cell_type": "code",
   "execution_count": 24,
   "metadata": {},
   "outputs": [
    {
     "data": {
      "text/plain": [
       "'Title: \"Turning Challenges into Opportunities: The Inspiring Journey of Samir Patel\"\\n\\nIntroduction: The story revolves around Samir Patel, a self-taught programmer from India, who navigates through the challenges of the tech industry to make a significant impact in the world. His journey from a small town in India to the prestigious halls of MIT and then to Silicon Valley, before returning to his roots, is a testament to his resilience and dedication.\\n\\n1. Samir Patel, hailing from a small town in India, had a deep-rooted fascination for puzzles and technology. His self-taught programming skills paved the way for his future endeavors.\\n\\n2. His dream of studying in the United States was realized when he was accepted into a prestigious program at MIT, specializing in artificial intelligence (AI).\\n\\n3. After graduation, Samir was recruited by a top tech company in Silicon Valley, marking a significant milestone in his career.\\n\\n4. Despite his professional success, Samir faced intense pressure and ethical dilemmas in the tech industry. These challenges led him to resign from his position.\\n\\n5. Samir returned to India and utilized his skills to develop a machine learning model. This model was designed to assist in diagnosing rare diseases in underfunded rural areas, a significant issue in his home country.\\n\\n6. His innovative work was recognized internationally, reaffirming his belief in the responsible and ethical use of technology.\\n\\n7. Samir\\'s journey is a testament to his resilience and dedication. Despite the challenges he faced, he managed to use his skills to make a meaningful difference in the world, thereby rediscovering his passion for technology.'"
      ]
     },
     "execution_count": 24,
     "metadata": {},
     "output_type": "execute_result"
    }
   ],
   "source": [
    "output"
   ]
  },
  {
   "cell_type": "markdown",
   "metadata": {},
   "source": [
    "## RefineChain For Summarization"
   ]
  },
  {
   "cell_type": "code",
   "execution_count": 25,
   "metadata": {},
   "outputs": [
    {
     "name": "stdout",
     "output_type": "stream",
     "text": [
      "\n",
      "\n",
      "\u001b[1m> Entering new RefineDocumentsChain chain...\u001b[0m\n",
      "\n",
      "\n",
      "\u001b[1m> Entering new LLMChain chain...\u001b[0m\n",
      "Prompt after formatting:\n",
      "\u001b[32;1m\u001b[1;3mWrite a concise summary of the following:\n",
      "\n",
      "\n",
      "\"Code of LifeThe BeginningSamir Patel had always been fascinated by puzzles. As a child, while other kids spent their afternoons playing outside, Samir would sit with his father’s old computer, a relic from the late 90s, solving logic puzzles or tinkering with lines of code he barely understood. The machine was slow, and the software was outdated, but to Samir, it was a portal to a world where the impossible became possible with a few keystrokes.Growing up in a small town in India, Samir's access to modern technology was limited, but his curiosity knew no bounds. He taught himself basic programming through whatever resources he could find—books from the local library, articles from tech magazines, and eventually, online tutorials when his town finally got a reliable internet connection. By the time he reached high school, Samir was already building small applications, much to the amazement of his teachers and peers.But it wasn’t just about solving problems for Samir. There was something deeper, a sense of control and creativity that programming gave him, a way to build worlds from scratch and bring ideas to life. It was during these formative years that Samir decided his future would be in technology. He dreamed of moving to the United States, the land of Silicon Valley, where innovation and ambition were rewarded.The LeapAfter completing his undergraduate studies in computer science, Samir applied to several universities in the United States. To his joy, he was accepted into a prestigious program at MIT, one of the leading institutions for computer science and engineering. The journey was a monumental leap for him—not just geographically, but culturally and academically. Everything was different in Boston—the people, the pace of life, the weather.Samir threw himself into his studies with the same passion he had as a child. The coursework was challenging, and the competition was fierce, but Samir thrived in this environment. It was here that he was introduced to the world of artificial intelligence (AI). His professors were leaders in the field, and the projects they worked on were cutting-edge, involving machine learning algorithms, neural networks, and the ethical implications of AI.Samir quickly realized that AI was more than just a buzzword; it was the future of technology, a tool that could revolutionize industries and change lives. He became obsessed with the idea of creating intelligent systems that could learn and adapt, systems that could assist humans in ways never before imagined.His graduate thesis focused on developing an AI model capable of predicting and diagnosing rare diseases by analyzing vast datasets of medical records. It was a project born out of personal experience—Samir’s younger sister, Asha, had suffered from a rare autoimmune disorder that had taken years to diagnose. The frustration his family had endured during that time fueled his determination to create something that could prevent others from experiencing the same pain.The StruggleAfter graduation, Samir was recruited by one of the top tech companies in Silicon Valley. It was everything he had dreamed of—working alongside some of the brightest minds in the world, developing innovative solutions, and contributing to projects that would shape the future. But as exhilarating as it was, the reality of life in the tech industry was far more complex than Samir had anticipated.The pressure was immense. Deadlines were tight, and the expectations were sky-high. The long hours began to take a toll on him, both physically and mentally. The company’s culture, while innovative, was also cutthroat. Success was celebrated, but failure was not an option. Samir found himself questioning his decisions, doubting his abilities. The passion that had once driven him now seemed like a double-edged sword.But the most challenging part was the ethical dilemmas he encountered. As AI technology advanced, so did its potential for misuse. Samir was involved in a project that aimed to create predictive policing algorithms, a tool that could foresee where crimes were likely to occur based on historical data. While the idea was to help law enforcement prevent crime, Samir couldn’t shake the feeling that this technology could also lead to increased surveillance and racial profiling.He started to voice his concerns, but they were often dismissed as overreactions. The higher-ups were more focused on the potential profits and the accolades that would come from developing such a groundbreaking tool. Torn between his ambition and his ethics, Samir began to feel like he was losing himself.The CrisisOne night, after another exhausting day at work, Samir received a call from his mother. Asha's condition had worsened, and she had been admitted to the hospital. The news hit Samir like a ton of bricks. Despite his success, he felt helpless. He was thousands of miles away, and no amount of coding could fix his sister's health.The following weeks were a blur of anxiety and sleepless nights. Samir couldn't focus on his work, and his performance began to suffer. His project was behind schedule, and his team was growing frustrated with his lack of contribution. The pressure mounted until Samir finally reached his breaking point.One evening, as he sat alone in his office, Samir made a decision. He couldn’t continue down this path. The work he was doing, as groundbreaking as it was, no longer aligned with his values or his reason for entering the field in the first place. He realized that he had lost sight of why he became a programmer—to help people, not just to create technology for technology’s sake.He handed in his resignation the next day.The New BeginningLeaving the company was both terrifying and liberating for Samir. For the first time in years, he felt like he could breathe. He returned to India to be with his family, and as he sat by Asha's bedside, he reflected on his journey. The experiences he had gained were invaluable, but they had also taught him an important lesson about staying true to one's principles.While in India, Samir began working on a new project, one that combined his expertise in AI with his desire to make a positive impact. He collaborated with local hospitals and NGOs to develop a machine learning model that could assist in diagnosing rare diseases, particularly in underfunded rural areas where medical resources were scarce. The project was a success, and soon, his system was being used in clinics across the region.Samir’s work didn’t go unnoticed. He was invited to speak at international conferences, and his project received funding from global health organizations. But more importantly, he had rediscovered his passion. He realized that technology, when used responsibly and ethically, had the power to change lives for the better.In the end, Samir's story wasn’t just about programming—it was about finding balance between ambition and ethics, and about using one's talents to make a meaningful difference in the world. As he looked at the code on his screen, he knew that he was finally writing the right script—the script of his life.\"\n",
      "\n",
      "\n",
      "CONCISE SUMMARY:\u001b[0m\n",
      "\n",
      "\u001b[1m> Finished chain.\u001b[0m\n",
      "\n",
      "\u001b[1m> Finished chain.\u001b[0m\n"
     ]
    }
   ],
   "source": [
    "chain = load_summarize_chain(\n",
    "    llm=llm,\n",
    "    chain_type='refine',\n",
    "    verbose=True\n",
    ")\n",
    "output_summary = chain.run(chunks)"
   ]
  },
  {
   "cell_type": "code",
   "execution_count": 26,
   "metadata": {},
   "outputs": [
    {
     "data": {
      "text/plain": [
       "'Samir Patel, a self-taught programmer from a small town in India, pursued his passion for technology and moved to the United States to study at MIT. After graduation, he was recruited by a top tech company in Silicon Valley, where he worked on cutting-edge AI projects. However, the intense pressure and ethical dilemmas he faced in the industry led him to resign. He returned to India and developed a machine learning model to assist in diagnosing rare diseases in underfunded rural areas. His work received international recognition and funding, reaffirming his belief in using technology responsibly and ethically to make a meaningful difference in the world.'"
      ]
     },
     "execution_count": 26,
     "metadata": {},
     "output_type": "execute_result"
    }
   ],
   "source": [
    "output_summary"
   ]
  }
 ],
 "metadata": {
  "kernelspec": {
   "display_name": "Python 3",
   "language": "python",
   "name": "python3"
  },
  "language_info": {
   "codemirror_mode": {
    "name": "ipython",
    "version": 3
   },
   "file_extension": ".py",
   "mimetype": "text/x-python",
   "name": "python",
   "nbconvert_exporter": "python",
   "pygments_lexer": "ipython3",
   "version": "3.11.7"
  },
  "orig_nbformat": 4
 },
 "nbformat": 4,
 "nbformat_minor": 2
}
