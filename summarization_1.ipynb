{
 "cells": [
  {
   "cell_type": "markdown",
   "metadata": {},
   "source": [
    "## Text Summarization Using Langchain "
   ]
  },
  {
   "cell_type": "code",
   "execution_count": 1,
   "metadata": {},
   "outputs": [],
   "source": [
    "import os \n",
    "open_api_key=\"sk-proj-Q08\"\n",
    "os.environ[\"OPENAI_API_KEY\"]=open_api_key"
   ]
  },
  {
   "cell_type": "code",
   "execution_count": 2,
   "metadata": {},
   "outputs": [],
   "source": [
    "## Basic Prompt Summarization\n",
    "from langchain.chat_models import ChatOpenAI\n",
    "from langchain.schema import(\n",
    "    AIMessage,\n",
    "    HumanMessage,\n",
    "    SystemMessage\n",
    ")"
   ]
  },
  {
   "cell_type": "code",
   "execution_count": 3,
   "metadata": {},
   "outputs": [],
   "source": [
    "news=\"\"\"\n",
    "India's Defense Ministry Approves Major ₹1.45 Lakh Crore Military Acquisition Plan\n",
    "\n",
    "In a significant move to bolster its defense capabilities, India's Defense Ministry has approved a massive procurement plan worth ₹1.45 lakh crore (approximately $17.5 billion). The plan includes the acquisition of ten key military assets aimed at modernizing the Indian armed forces and enhancing their operational readiness.\n",
    "\n",
    "Among the prominent acquisitions are the Dornier-228 aircraft, which will serve in transport and surveillance roles for both the Indian Air Force and Navy. These aircraft are known for their short-range capabilities, making them versatile assets for various military operations.\n",
    "\n",
    "Another major highlight of the acquisition plan is the procurement of Future Ready Combat Vehicles (FRCVs). These advanced combat vehicles are set to replace older models within the Indian Army, significantly improving its combat efficiency and readiness in diverse terrains.\n",
    "\n",
    "This procurement is part of India's broader strategy to reduce reliance on foreign military suppliers by increasing investments in indigenous production. The initiative aligns with the country's \"Make in India\" program, emphasizing self-reliance in defense manufacturing.\n",
    "\n",
    "The approval underscores India's commitment to modernizing its military infrastructure amid growing regional security challenges, ensuring that its armed forces remain well-equipped to meet contemporary threats.\n",
    "\"\"\""
   ]
  },
  {
   "cell_type": "code",
   "execution_count": 4,
   "metadata": {},
   "outputs": [
    {
     "name": "stderr",
     "output_type": "stream",
     "text": [
      "/var/folders/50/37d92zzj16z4b8zf67ydlch40000gn/T/ipykernel_31005/151408146.py:6: LangChainDeprecationWarning: The class `ChatOpenAI` was deprecated in LangChain 0.0.10 and will be removed in 1.0. An updated version of the class exists in the langchain-openai package and should be used instead. To use it run `pip install -U langchain-openai` and import as `from langchain_openai import ChatOpenAI`.\n",
      "  llm=ChatOpenAI(model_name='gpt-4')\n"
     ]
    }
   ],
   "source": [
    "chat_messages=[\n",
    "    SystemMessage(content='You are an expert assistant with expertize in summarizing news'),\n",
    "    HumanMessage(content=f'Please provide a short and concise summary of the following news:\\n TEXT: {news}')\n",
    "]\n",
    "\n",
    "llm=ChatOpenAI(model_name='gpt-4')\n"
   ]
  },
  {
   "cell_type": "code",
   "execution_count": 5,
   "metadata": {},
   "outputs": [
    {
     "data": {
      "text/plain": [
       "253"
      ]
     },
     "execution_count": 5,
     "metadata": {},
     "output_type": "execute_result"
    }
   ],
   "source": [
    "##total tokens\n",
    "llm.get_num_tokens(news)"
   ]
  },
  {
   "cell_type": "code",
   "execution_count": 6,
   "metadata": {},
   "outputs": [
    {
     "name": "stderr",
     "output_type": "stream",
     "text": [
      "/var/folders/50/37d92zzj16z4b8zf67ydlch40000gn/T/ipykernel_31005/1441627176.py:1: LangChainDeprecationWarning: The method `BaseChatModel.__call__` was deprecated in langchain-core 0.1.7 and will be removed in 1.0. Use invoke instead.\n",
      "  llm(chat_messages).content\n"
     ]
    },
    {
     "data": {
      "text/plain": [
       "'India\\'s Defense Ministry has approved a major military procurement plan worth ₹1.45 lakh crore ($17.5 billion) to boost its defense capabilities. The plan includes the purchase of ten key military assets, such as the Dornier-228 aircraft for transport and surveillance, and Future Ready Combat Vehicles to replace older models in the army. This move is part of India\\'s wider strategy to depend less on foreign military suppliers and increase investment in domestic production, aligning with the country\\'s \"Make in India\" program. This underscores India\\'s commitment to modernize its military infrastructure amid rising regional security challenges.\\n'"
      ]
     },
     "execution_count": 6,
     "metadata": {},
     "output_type": "execute_result"
    }
   ],
   "source": [
    "llm(chat_messages).content"
   ]
  },
  {
   "cell_type": "code",
   "execution_count": 7,
   "metadata": {},
   "outputs": [
    {
     "name": "stdout",
     "output_type": "stream",
     "text": [
      "India's Defense Ministry has sanctioned a military procurement plan worth ₹1.45 lakh crore ($17.5 billion) to improve its defense capabilities. This includes the acquisition of ten key military assets such as the Dornier-228 aircraft for transportation and surveillance, and Future Ready Combat Vehicles to replace older models in the Indian Army. This initiative aims to reduce dependence on foreign military suppliers by increasing investments in domestic production, aligning with the \"Make in India\" program. The move is part of India's efforts to modernize its military infrastructure in response to growing regional security challenges.\n",
      "\n"
     ]
    }
   ],
   "source": [
    "##get_summary\n",
    "print(llm(chat_messages).content)"
   ]
  },
  {
   "cell_type": "markdown",
   "metadata": {},
   "source": [
    "## Prompt Templates Text Summarization"
   ]
  },
  {
   "cell_type": "code",
   "execution_count": 8,
   "metadata": {},
   "outputs": [],
   "source": [
    "\n",
    "from langchain.chains import LLMChain\n",
    "from langchain import PromptTemplate"
   ]
  },
  {
   "cell_type": "code",
   "execution_count": 9,
   "metadata": {},
   "outputs": [],
   "source": [
    "generic_template='''\n",
    "Write a summary of the following news:\n",
    "news : `{news}`\n",
    "Translate the precise summary to {language}.\n",
    "\n",
    "'''\n",
    "prompt=PromptTemplate(\n",
    "    input_variables=['news','language'],\n",
    "    template=generic_template\n",
    ")"
   ]
  },
  {
   "cell_type": "code",
   "execution_count": 10,
   "metadata": {},
   "outputs": [
    {
     "data": {
      "text/plain": [
       "'\\nWrite a summary of the following news:\\nnews : `\\nIndia\\'s Defense Ministry Approves Major ₹1.45 Lakh Crore Military Acquisition Plan\\n\\nIn a significant move to bolster its defense capabilities, India\\'s Defense Ministry has approved a massive procurement plan worth ₹1.45 lakh crore (approximately $17.5 billion). The plan includes the acquisition of ten key military assets aimed at modernizing the Indian armed forces and enhancing their operational readiness.\\n\\nAmong the prominent acquisitions are the Dornier-228 aircraft, which will serve in transport and surveillance roles for both the Indian Air Force and Navy. These aircraft are known for their short-range capabilities, making them versatile assets for various military operations.\\n\\nAnother major highlight of the acquisition plan is the procurement of Future Ready Combat Vehicles (FRCVs). These advanced combat vehicles are set to replace older models within the Indian Army, significantly improving its combat efficiency and readiness in diverse terrains.\\n\\nThis procurement is part of India\\'s broader strategy to reduce reliance on foreign military suppliers by increasing investments in indigenous production. The initiative aligns with the country\\'s \"Make in India\" program, emphasizing self-reliance in defense manufacturing.\\n\\nThe approval underscores India\\'s commitment to modernizing its military infrastructure amid growing regional security challenges, ensuring that its armed forces remain well-equipped to meet contemporary threats.\\n`\\nTranslate the precise summary to Malayalam.\\n\\n'"
      ]
     },
     "execution_count": 10,
     "metadata": {},
     "output_type": "execute_result"
    }
   ],
   "source": [
    "prompt.format(news=news,language='Malayalam')"
   ]
  },
  {
   "cell_type": "code",
   "execution_count": 11,
   "metadata": {},
   "outputs": [],
   "source": [
    "complete_prompt=prompt.format(news=news,language='Malayalam')"
   ]
  },
  {
   "cell_type": "code",
   "execution_count": 12,
   "metadata": {},
   "outputs": [
    {
     "data": {
      "text/plain": [
       "273"
      ]
     },
     "execution_count": 12,
     "metadata": {},
     "output_type": "execute_result"
    }
   ],
   "source": [
    "llm.get_num_tokens(complete_prompt)"
   ]
  },
  {
   "cell_type": "code",
   "execution_count": 13,
   "metadata": {},
   "outputs": [
    {
     "name": "stderr",
     "output_type": "stream",
     "text": [
      "/var/folders/50/37d92zzj16z4b8zf67ydlch40000gn/T/ipykernel_31005/1382779318.py:1: LangChainDeprecationWarning: The class `LLMChain` was deprecated in LangChain 0.1.17 and will be removed in 1.0. Use RunnableSequence, e.g., `prompt | llm` instead.\n",
      "  llm_chain=LLMChain(llm=llm,prompt=prompt)\n",
      "/var/folders/50/37d92zzj16z4b8zf67ydlch40000gn/T/ipykernel_31005/1382779318.py:2: LangChainDeprecationWarning: The method `Chain.run` was deprecated in langchain 0.1.0 and will be removed in 1.0. Use invoke instead.\n",
      "  summary=llm_chain.run({'news':news,'language':'malayalam'})\n"
     ]
    }
   ],
   "source": [
    "llm_chain=LLMChain(llm=llm,prompt=prompt)\n",
    "summary=llm_chain.run({'news':news,'language':'malayalam'})"
   ]
  },
  {
   "cell_type": "code",
   "execution_count": 14,
   "metadata": {},
   "outputs": [
    {
     "data": {
      "text/plain": [
       "'ഇന്ത്യയുടെ പ്രതിരോധ മന്ത്രാലയം അതിന്റെ പ്രതിരോധ സാമർത്ഥ്യം വര്\\u200dദ്ധിപ്പിക്കാനായി അതിവലിയ ഒരു ക്രയാടിസ്ഥാന പദ്ധതിയെ അംഗീകരിച്ചു. ഈ പദ്ധതി ₹1.45 ലക്ഷം കോടി (ഏകദേശം $17.5 ബില്യൺ) വിലയാണ്. ഈ പദ്ധതിയിൽ ഇന്ത്യന്\\u200d സൈന്യത്തിന്റെ പ്രവർത്തന തയ്യാറെടുപ്പ് മെച്ചപ്പെടുത്താനായി പത്ത് പ്രധാന സൈനിക സ്വത്തുക്കളെ ആക്കർപ്പിച്ചതാണ്.\\n\\nപ്രമുഖമായ ആക്കർപ്പണങ്ങളിൽ ഇന്ത്യന്\\u200d വിമാനസേനയും നാവികസേനയും ഉപയോഗിക്കുന്ന Dornier-228 വിമാനങ്ങളും അടങ്ങുന്നു. ഇവയാണ് അവരുടെ കുറഞ്ഞ പരിപാലന ക്ഷമതയാല്\\u200d വിവിധ സൈനിക പ്രവർത്തനങ്ങൾക്കായി പലപ്പോഴും ഉപയോഗപ്പെടുന്ന സ്വത്തുക്കളാണ്.\\n\\nക്രയാടിസ്ഥാന പദ്ധതിയുടെ മറ്റൊരു പ്രധാന ഘടകം ഭാവിയിലെ പ്രതിസന്ധിക്ക് തയ്യാറായ യുദ്ധ വാഹനങ്ങളുടെ (FRCVs) ക്രയ ആണ്. ഈ മുന്നേറ്റു യുദ്ധ വാഹനങ്ങൾ ഇന്ത്യന്\\u200d സൈന്യത്തിലെ പഴയ മാതൃകകളെ മാറ്റിവിടുന്നു, അതിന്റെ യുദ്ധ ദക്ഷത ഒപ്പം വിവിധ പ്രദേശങ്ങളിൽ തയ്യാറെടുപ്പ് വളരെ മെച്ചപ്പെടുത്തുന്നു.\\n\\nഈ ക്രയം വിദേശ സൈനിക സരബരാജകരെക്ക് ആശ്രയിക്കുന്നത് കുറയ്ക്കാനുള്ള ഇന്ത്യയുടെ വ്യാപക കരാറാണ് ഇത്. ഇത് രാജ്യത്തിന്റെ \"ഇന്ത്യയിൽ നിർമ്മിക്കുക\" പദ്ധതിയുമായി യോജിക്കുന്നു, പ്രതിരോധ നിർമ്മാണത്തിൽ സ്വന്തമായി നിൽക്കാനുള്ള അധിഷ്ഠിത അവസാനമാണ് അത് അവലംബിക്കുന്നത്.\\n\\nവളരുന്ന പ്രദേശിക സുരക്ഷാ സവാളങ്ങളില്\\u200d ഇത് ഇന്ത്യയുടെ സൈനിക ബന്ധപ്പെട്ട ബോധ്യാപനത്തിന്റെ മാറ്റം അടിസ്ഥാനമാക്കുന്നു, അതിന്റെ സൈനിക സമൂഹം ആധുനിക ഭീഷണികൾക്ക് എതിരായി നല്ലവിധത്തിൽ സജ്ജമാക്കുന്നതിനുള്ള ഉറപ്പാണ്.'"
      ]
     },
     "execution_count": 14,
     "metadata": {},
     "output_type": "execute_result"
    }
   ],
   "source": [
    "summary"
   ]
  }
 ],
 "metadata": {
  "kernelspec": {
   "display_name": "Python 3",
   "language": "python",
   "name": "python3"
  },
  "language_info": {
   "codemirror_mode": {
    "name": "ipython",
    "version": 3
   },
   "file_extension": ".py",
   "mimetype": "text/x-python",
   "name": "python",
   "nbconvert_exporter": "python",
   "pygments_lexer": "ipython3",
   "version": "3.11.7"
  },
  "orig_nbformat": 4
 },
 "nbformat": 4,
 "nbformat_minor": 2
}
